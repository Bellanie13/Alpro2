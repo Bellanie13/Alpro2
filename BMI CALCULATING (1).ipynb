{
 "cells": [
  {
   "cell_type": "code",
   "execution_count": 22,
   "id": "09e8d8d8",
   "metadata": {},
   "outputs": [
    {
     "name": "stdout",
     "output_type": "stream",
     "text": [
      "Masukkan berat badan Anda (kg): 50\n",
      "Masukkan tinggi badan Anda (m): 1.5\n",
      "Ingin mencoba lagi???ga\n",
      "Data yang dimasukkan tidak valid. Mohon periksa kembali data!\n"
     ]
    }
   ],
   "source": [
    "masuk = 1\n",
    "while masuk >= 1:\n",
    "    berat_badan = float(input(\"Masukkan berat badan Anda (kg): \"))\n",
    "    tinggi_badan = float(input(\"Masukkan tinggi badan Anda (m): \"))  \n",
    "    process = berat_badan / tinggi_badan**2\n",
    "    \n",
    "    if(process<=18.5):\n",
    "        print (\"Indeks Massa Tubuh Anda Kurang Underweight!\")\n",
    "    \n",
    "    elif(18.5>process>=23.0):\n",
    "        print (\"Indeks Massa Tubuh Anda Normal!\")\n",
    "    \n",
    "    elif(23.0>process>=25.0):\n",
    "        print (\"Indeks Massa Tubuh Anda Berlebih Overweight!\")\n",
    "    \n",
    "    elif(25.0>process>= 30.0):\n",
    "        print (\"Indeks Massa Tubuh Anda Obesitas tingkat I Obesity I !\")\n",
    "    \n",
    "    elif(process>30.0):\n",
    "        print (\"Indeks Massa Tubuh Anda Obesitas tingkat II Obesity II !\")\n",
    "    next_try = str(input(\"Ingin mencoba lagi???\"))\n",
    "    if next_try == \"tidak\":\n",
    "        print (\"Program Selesa. Terima kasih!\")\n",
    "        break\n",
    "    elif next_try ==\"ya\":\n",
    "        continue\n",
    "    else:\n",
    "        print(\"Data yang dimasukkan tidak valid. Mohon periksa kembali data!\")\n",
    "        break\n"
   ]
  },
  {
   "cell_type": "code",
   "execution_count": null,
   "id": "ebb63ee6",
   "metadata": {},
   "outputs": [],
   "source": []
  },
  {
   "cell_type": "code",
   "execution_count": null,
   "id": "23bf2e36",
   "metadata": {},
   "outputs": [],
   "source": []
  }
 ],
 "metadata": {
  "kernelspec": {
   "display_name": "Python 3 (ipykernel)",
   "language": "python",
   "name": "python3"
  },
  "language_info": {
   "codemirror_mode": {
    "name": "ipython",
    "version": 3
   },
   "file_extension": ".py",
   "mimetype": "text/x-python",
   "name": "python",
   "nbconvert_exporter": "python",
   "pygments_lexer": "ipython3",
   "version": "3.10.0"
  }
 },
 "nbformat": 4,
 "nbformat_minor": 5
}
